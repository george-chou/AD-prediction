{
 "cells": [
  {
   "source": [
    "## Support Vector Machine\n",
    "\n",
    "Support-vector machines (SVMs) are supervised learning machine learning models widely used for classification and regression tasks. In medical research, SVMs can be used to predict the health status of a patient for a target disease. In this experiment, we are going to train a SVM model to predict Diabetes.\n",
    "\n",
    "Please download the pima.csv file from Canvas and save it to the same directory as this jupyter notebook, and run the following code to load the datasets."
   ],
   "cell_type": "markdown",
   "metadata": {}
  },
  {
   "cell_type": "code",
   "execution_count": 16,
   "metadata": {},
   "outputs": [],
   "source": [
    "import os\n",
    "from csv import reader\n",
    "import numpy as np\n",
    "from sklearn.model_selection import train_test_split\n",
    "from sklearn import svm\n",
    "from sklearn.svm import LinearSVC"
   ]
  },
  {
   "cell_type": "code",
   "execution_count": 17,
   "metadata": {},
   "outputs": [],
   "source": [
    "def norm(arr):\n",
    "    x_max = max(arr)\n",
    "    x_min = min(arr)\n",
    "    for i in range(len(arr)):\n",
    "        arr[i] = (arr[i] - x_min) / (x_max - x_min)\n",
    "    return arr"
   ]
  },
  {
   "cell_type": "code",
   "execution_count": 18,
   "metadata": {
    "tags": []
   },
   "outputs": [],
   "source": [
    "# Load training data\n",
    "with open(\"data/AAL_statistics_volumn_train.csv\") as f:\n",
    "    csv_data = reader(f, delimiter=',')\n",
    "    raw_data = np.array(list(csv_data))\n",
    "\n",
    "# Preprocess training data\n",
    "x_train = []\n",
    "y_train = []\n",
    "data_count = len(raw_data)\n",
    "tuple_len = len(raw_data[0])\n",
    "\n",
    "for i in raw_data:\n",
    "    temp = norm([int(j) for j in i[1:tuple_len - 2]])\n",
    "    x_train.append(temp)\n",
    "    if i[tuple_len - 1] == \"yes\":\n",
    "        y_train.append(1)\n",
    "    else:\n",
    "        y_train.append(0)"
   ]
  },
  {
   "cell_type": "code",
   "execution_count": 19,
   "metadata": {},
   "outputs": [],
   "source": [
    "# Load test data\n",
    "with open(\"data/AAL_statistics_volumn_test.csv\") as f:\n",
    "    csv_data = reader(f, delimiter=',')\n",
    "    raw_data = np.array(list(csv_data))\n",
    "\n",
    "# Preprocess test data\n",
    "x_test = []\n",
    "y_test = []\n",
    "data_count = len(raw_data)\n",
    "tuple_len = len(raw_data[0])\n",
    "\n",
    "for i in raw_data:\n",
    "    temp = norm([int(j) for j in i[1:tuple_len - 1]])\n",
    "    x_test.append(temp)"
   ]
  },
  {
   "cell_type": "code",
   "execution_count": 20,
   "metadata": {
    "tags": []
   },
   "outputs": [
    {
     "output_type": "stream",
     "name": "stdout",
     "text": [
      "[0 0 1 0 1 0 1 1 1 1]\n"
     ]
    }
   ],
   "source": [
    "#predict\n",
    "clf = LinearSVC(loss=\"hinge\", random_state=42).fit(x_train, y_train)\n",
    "y_test = clf.predict(x_test)\n",
    "print(y_test)"
   ]
  },
  {
   "cell_type": "code",
   "execution_count": 21,
   "metadata": {},
   "outputs": [
    {
     "output_type": "stream",
     "name": "stdout",
     "text": [
      "1.0\n"
     ]
    }
   ],
   "source": [
    "# Split dataset\n",
    "xt_train, xt_test, yt_train, yt_test = train_test_split(x_train, y_train, test_size=0.33, random_state=73)\n",
    "\n",
    "#accuracy\n",
    "clf = LinearSVC(loss=\"hinge\", random_state=42).fit(xt_train, yt_train)\n",
    "print(clf.score(xt_test, yt_test))"
   ]
  },
  {
   "cell_type": "code",
   "execution_count": null,
   "metadata": {},
   "outputs": [],
   "source": []
  }
 ],
 "metadata": {
  "kernelspec": {
   "name": "python3",
   "display_name": "Python 3.8.6 64-bit",
   "metadata": {
    "interpreter": {
     "hash": "62717988da3a1748178a99c6c0a6b3a99819a78a32e9666064d8381545836fe7"
    }
   }
  },
  "language_info": {
   "codemirror_mode": {
    "name": "ipython",
    "version": 3
   },
   "file_extension": ".py",
   "mimetype": "text/x-python",
   "name": "python",
   "nbconvert_exporter": "python",
   "pygments_lexer": "ipython3",
   "version": "3.8.6-final"
  }
 },
 "nbformat": 4,
 "nbformat_minor": 2
}